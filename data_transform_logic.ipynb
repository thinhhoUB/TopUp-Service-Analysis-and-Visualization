{
 "cells": [
  {
   "cell_type": "code",
   "execution_count": 1,
   "id": "887e346b",
   "metadata": {},
   "outputs": [],
   "source": [
    "import pandas as pd\n",
    "import numpy as np"
   ]
  },
  {
   "cell_type": "markdown",
   "id": "918a8367",
   "metadata": {},
   "source": [
    "Here, I download as csv file and read by pandas library\n",
    "\n",
    "Loading all the datasets:"
   ]
  },
  {
   "cell_type": "code",
   "execution_count": 2,
   "id": "42aa9e07",
   "metadata": {},
   "outputs": [],
   "source": [
    "transaction = pd.read_csv('Data_Transaction.csv')\n",
    "comission = pd.read_csv('Data_Comission.csv')\n",
    "user = pd.read_csv('Data_User_Info.csv')"
   ]
  },
  {
   "cell_type": "markdown",
   "id": "7e1d1a58",
   "metadata": {},
   "source": [
    "# Data processing"
   ]
  },
  {
   "cell_type": "markdown",
   "id": "38bc3456",
   "metadata": {},
   "source": [
    "## Performing Exploratory Data Analysis\n",
    "\n",
    "> Evaluate: data type check/ null check/ data consistency/ data validation"
   ]
  },
  {
   "cell_type": "code",
   "execution_count": 3,
   "id": "6bcd5e9a",
   "metadata": {
    "scrolled": false
   },
   "outputs": [
    {
     "data": {
      "text/html": [
       "<div>\n",
       "<style scoped>\n",
       "    .dataframe tbody tr th:only-of-type {\n",
       "        vertical-align: middle;\n",
       "    }\n",
       "\n",
       "    .dataframe tbody tr th {\n",
       "        vertical-align: top;\n",
       "    }\n",
       "\n",
       "    .dataframe thead th {\n",
       "        text-align: right;\n",
       "    }\n",
       "</style>\n",
       "<table border=\"1\" class=\"dataframe\">\n",
       "  <thead>\n",
       "    <tr style=\"text-align: right;\">\n",
       "      <th></th>\n",
       "      <th>user_id</th>\n",
       "      <th>order_id</th>\n",
       "      <th>Date</th>\n",
       "      <th>Amount</th>\n",
       "      <th>Merchant_id</th>\n",
       "      <th>Purchase_status</th>\n",
       "    </tr>\n",
       "  </thead>\n",
       "  <tbody>\n",
       "    <tr>\n",
       "      <th>0</th>\n",
       "      <td>21269588</td>\n",
       "      <td>4169517626</td>\n",
       "      <td>2020-01-01</td>\n",
       "      <td>10,000</td>\n",
       "      <td>13</td>\n",
       "      <td>NaN</td>\n",
       "    </tr>\n",
       "    <tr>\n",
       "      <th>1</th>\n",
       "      <td>28097592</td>\n",
       "      <td>4170276686</td>\n",
       "      <td>2020-01-01</td>\n",
       "      <td>20,000</td>\n",
       "      <td>13</td>\n",
       "      <td>NaN</td>\n",
       "    </tr>\n",
       "    <tr>\n",
       "      <th>2</th>\n",
       "      <td>47435144</td>\n",
       "      <td>4166729310</td>\n",
       "      <td>2020-01-01</td>\n",
       "      <td>10,000</td>\n",
       "      <td>12</td>\n",
       "      <td>NaN</td>\n",
       "    </tr>\n",
       "    <tr>\n",
       "      <th>3</th>\n",
       "      <td>29080935</td>\n",
       "      <td>4174460303</td>\n",
       "      <td>2020-01-01</td>\n",
       "      <td>10,000</td>\n",
       "      <td>13</td>\n",
       "      <td>NaN</td>\n",
       "    </tr>\n",
       "    <tr>\n",
       "      <th>4</th>\n",
       "      <td>14591075</td>\n",
       "      <td>4168216749</td>\n",
       "      <td>2020-01-01</td>\n",
       "      <td>10,000</td>\n",
       "      <td>12</td>\n",
       "      <td>NaN</td>\n",
       "    </tr>\n",
       "  </tbody>\n",
       "</table>\n",
       "</div>"
      ],
      "text/plain": [
       "    user_id    order_id        Date  Amount  Merchant_id Purchase_status\n",
       "0  21269588  4169517626  2020-01-01  10,000           13             NaN\n",
       "1  28097592  4170276686  2020-01-01  20,000           13             NaN\n",
       "2  47435144  4166729310  2020-01-01  10,000           12             NaN\n",
       "3  29080935  4174460303  2020-01-01  10,000           13             NaN\n",
       "4  14591075  4168216749  2020-01-01  10,000           12             NaN"
      ]
     },
     "execution_count": 3,
     "metadata": {},
     "output_type": "execute_result"
    }
   ],
   "source": [
    "transaction.head()"
   ]
  },
  {
   "cell_type": "code",
   "execution_count": 4,
   "id": "8ffc3253",
   "metadata": {
    "scrolled": true
   },
   "outputs": [
    {
     "name": "stdout",
     "output_type": "stream",
     "text": [
      "<class 'pandas.core.frame.DataFrame'>\n",
      "RangeIndex: 13495 entries, 0 to 13494\n",
      "Data columns (total 6 columns):\n",
      " #   Column           Non-Null Count  Dtype \n",
      "---  ------           --------------  ----- \n",
      " 0   user_id          13495 non-null  int64 \n",
      " 1   order_id         13495 non-null  int64 \n",
      " 2   Date             13495 non-null  object\n",
      " 3   Amount           13495 non-null  object\n",
      " 4   Merchant_id      13495 non-null  int64 \n",
      " 5   Purchase_status  2235 non-null   object\n",
      "dtypes: int64(3), object(3)\n",
      "memory usage: 632.7+ KB\n"
     ]
    }
   ],
   "source": [
    "transaction.info()"
   ]
  },
  {
   "cell_type": "markdown",
   "id": "9cc52e1f",
   "metadata": {},
   "source": [
    "> change data types"
   ]
  },
  {
   "cell_type": "code",
   "execution_count": 5,
   "id": "1cb24f6a",
   "metadata": {},
   "outputs": [],
   "source": [
    "transaction['Amount'] = transaction['Amount'].str.replace(',','')"
   ]
  },
  {
   "cell_type": "code",
   "execution_count": 6,
   "id": "440990aa",
   "metadata": {},
   "outputs": [],
   "source": [
    "transaction['Date']= pd.to_datetime(transaction['Date'],errors='coerce')"
   ]
  },
  {
   "cell_type": "code",
   "execution_count": 7,
   "id": "09f738e4",
   "metadata": {
    "scrolled": true
   },
   "outputs": [],
   "source": [
    "transaction = transaction.astype({\"Amount\": int})"
   ]
  },
  {
   "cell_type": "markdown",
   "id": "2e2d4101",
   "metadata": {},
   "source": [
    "> filling null values"
   ]
  },
  {
   "cell_type": "code",
   "execution_count": 8,
   "id": "b671b0f3",
   "metadata": {},
   "outputs": [],
   "source": [
    "transaction['Purchase_status'] = transaction['Purchase_status'].fillna('Direct Sale')"
   ]
  },
  {
   "cell_type": "markdown",
   "id": "8eb1088a",
   "metadata": {},
   "source": [
    "> data consistency/readable"
   ]
  },
  {
   "cell_type": "code",
   "execution_count": 9,
   "id": "94868bd3",
   "metadata": {},
   "outputs": [
    {
     "data": {
      "text/plain": [
       "array(['Direct Sale', 'Purchase for Others'], dtype=object)"
      ]
     },
     "execution_count": 9,
     "metadata": {},
     "output_type": "execute_result"
    }
   ],
   "source": [
    "transaction['Purchase_status'] = transaction['Purchase_status'].replace('Mua hộ', 'Purchase for Others')\n",
    "transaction['Purchase_status'].unique()"
   ]
  },
  {
   "cell_type": "code",
   "execution_count": 10,
   "id": "effecd1e",
   "metadata": {
    "scrolled": true
   },
   "outputs": [
    {
     "name": "stdout",
     "output_type": "stream",
     "text": [
      "<class 'pandas.core.frame.DataFrame'>\n",
      "RangeIndex: 13495 entries, 0 to 13494\n",
      "Data columns (total 6 columns):\n",
      " #   Column           Non-Null Count  Dtype         \n",
      "---  ------           --------------  -----         \n",
      " 0   user_id          13495 non-null  int64         \n",
      " 1   order_id         13495 non-null  int64         \n",
      " 2   Date             13495 non-null  datetime64[ns]\n",
      " 3   Amount           13495 non-null  int64         \n",
      " 4   Merchant_id      13495 non-null  int64         \n",
      " 5   Purchase_status  13495 non-null  object        \n",
      "dtypes: datetime64[ns](1), int64(4), object(1)\n",
      "memory usage: 632.7+ KB\n"
     ]
    }
   ],
   "source": [
    "transaction.info()"
   ]
  },
  {
   "cell_type": "code",
   "execution_count": 11,
   "id": "22522637",
   "metadata": {
    "scrolled": true
   },
   "outputs": [
    {
     "data": {
      "text/html": [
       "<div>\n",
       "<style scoped>\n",
       "    .dataframe tbody tr th:only-of-type {\n",
       "        vertical-align: middle;\n",
       "    }\n",
       "\n",
       "    .dataframe tbody tr th {\n",
       "        vertical-align: top;\n",
       "    }\n",
       "\n",
       "    .dataframe thead th {\n",
       "        text-align: right;\n",
       "    }\n",
       "</style>\n",
       "<table border=\"1\" class=\"dataframe\">\n",
       "  <thead>\n",
       "    <tr style=\"text-align: right;\">\n",
       "      <th></th>\n",
       "      <th>Merchant_name</th>\n",
       "      <th>Merchant_id</th>\n",
       "      <th>Rate_pct</th>\n",
       "    </tr>\n",
       "  </thead>\n",
       "  <tbody>\n",
       "    <tr>\n",
       "      <th>0</th>\n",
       "      <td>Viettel</td>\n",
       "      <td>12</td>\n",
       "      <td>2</td>\n",
       "    </tr>\n",
       "    <tr>\n",
       "      <th>1</th>\n",
       "      <td>Mobifone</td>\n",
       "      <td>13</td>\n",
       "      <td>3</td>\n",
       "    </tr>\n",
       "    <tr>\n",
       "      <th>2</th>\n",
       "      <td>Vinaphone</td>\n",
       "      <td>14</td>\n",
       "      <td>4</td>\n",
       "    </tr>\n",
       "    <tr>\n",
       "      <th>3</th>\n",
       "      <td>Vietnamobile</td>\n",
       "      <td>15</td>\n",
       "      <td>4</td>\n",
       "    </tr>\n",
       "    <tr>\n",
       "      <th>4</th>\n",
       "      <td>Gmobile</td>\n",
       "      <td>16</td>\n",
       "      <td>4</td>\n",
       "    </tr>\n",
       "  </tbody>\n",
       "</table>\n",
       "</div>"
      ],
      "text/plain": [
       "  Merchant_name  Merchant_id  Rate_pct\n",
       "0       Viettel           12         2\n",
       "1      Mobifone           13         3\n",
       "2     Vinaphone           14         4\n",
       "3  Vietnamobile           15         4\n",
       "4       Gmobile           16         4"
      ]
     },
     "execution_count": 11,
     "metadata": {},
     "output_type": "execute_result"
    }
   ],
   "source": [
    "comission.head()"
   ]
  },
  {
   "cell_type": "code",
   "execution_count": 12,
   "id": "b6047fe0",
   "metadata": {},
   "outputs": [
    {
     "name": "stdout",
     "output_type": "stream",
     "text": [
      "<class 'pandas.core.frame.DataFrame'>\n",
      "RangeIndex: 5 entries, 0 to 4\n",
      "Data columns (total 3 columns):\n",
      " #   Column         Non-Null Count  Dtype \n",
      "---  ------         --------------  ----- \n",
      " 0   Merchant_name  5 non-null      object\n",
      " 1   Merchant_id    5 non-null      int64 \n",
      " 2   Rate_pct       5 non-null      int64 \n",
      "dtypes: int64(2), object(1)\n",
      "memory usage: 248.0+ bytes\n"
     ]
    }
   ],
   "source": [
    "comission.info()"
   ]
  },
  {
   "cell_type": "code",
   "execution_count": 13,
   "id": "20dca180",
   "metadata": {},
   "outputs": [
    {
     "data": {
      "text/html": [
       "<div>\n",
       "<style scoped>\n",
       "    .dataframe tbody tr th:only-of-type {\n",
       "        vertical-align: middle;\n",
       "    }\n",
       "\n",
       "    .dataframe tbody tr th {\n",
       "        vertical-align: top;\n",
       "    }\n",
       "\n",
       "    .dataframe thead th {\n",
       "        text-align: right;\n",
       "    }\n",
       "</style>\n",
       "<table border=\"1\" class=\"dataframe\">\n",
       "  <thead>\n",
       "    <tr style=\"text-align: right;\">\n",
       "      <th></th>\n",
       "      <th>User_id</th>\n",
       "      <th>First_tran_date</th>\n",
       "      <th>Location</th>\n",
       "      <th>Age</th>\n",
       "      <th>Gender</th>\n",
       "    </tr>\n",
       "  </thead>\n",
       "  <tbody>\n",
       "    <tr>\n",
       "      <th>0</th>\n",
       "      <td>41654498</td>\n",
       "      <td>2018-05-02</td>\n",
       "      <td>HCMC</td>\n",
       "      <td>33_to_37</td>\n",
       "      <td>MALE</td>\n",
       "    </tr>\n",
       "    <tr>\n",
       "      <th>1</th>\n",
       "      <td>51276281</td>\n",
       "      <td>2019-12-08</td>\n",
       "      <td>Other Cities</td>\n",
       "      <td>unknown</td>\n",
       "      <td>MALE</td>\n",
       "    </tr>\n",
       "    <tr>\n",
       "      <th>2</th>\n",
       "      <td>49152375</td>\n",
       "      <td>2019-12-20</td>\n",
       "      <td>Other Cities</td>\n",
       "      <td>23_to_27</td>\n",
       "      <td>MALE</td>\n",
       "    </tr>\n",
       "    <tr>\n",
       "      <th>3</th>\n",
       "      <td>5971050</td>\n",
       "      <td>2019-08-01</td>\n",
       "      <td>HCMC</td>\n",
       "      <td>28_to_32</td>\n",
       "      <td>MALE</td>\n",
       "    </tr>\n",
       "    <tr>\n",
       "      <th>4</th>\n",
       "      <td>48134464</td>\n",
       "      <td>2019-08-23</td>\n",
       "      <td>Other Cities</td>\n",
       "      <td>18_to_22</td>\n",
       "      <td>FEMALE</td>\n",
       "    </tr>\n",
       "  </tbody>\n",
       "</table>\n",
       "</div>"
      ],
      "text/plain": [
       "    User_id First_tran_date      Location       Age  Gender\n",
       "0  41654498      2018-05-02          HCMC  33_to_37    MALE\n",
       "1  51276281      2019-12-08  Other Cities   unknown    MALE\n",
       "2  49152375      2019-12-20  Other Cities  23_to_27    MALE\n",
       "3   5971050      2019-08-01          HCMC  28_to_32    MALE\n",
       "4  48134464      2019-08-23  Other Cities  18_to_22  FEMALE"
      ]
     },
     "execution_count": 13,
     "metadata": {},
     "output_type": "execute_result"
    }
   ],
   "source": [
    "user.head()"
   ]
  },
  {
   "cell_type": "code",
   "execution_count": 14,
   "id": "a2e2ee03",
   "metadata": {},
   "outputs": [
    {
     "name": "stdout",
     "output_type": "stream",
     "text": [
      "<class 'pandas.core.frame.DataFrame'>\n",
      "RangeIndex: 13428 entries, 0 to 13427\n",
      "Data columns (total 5 columns):\n",
      " #   Column           Non-Null Count  Dtype \n",
      "---  ------           --------------  ----- \n",
      " 0   User_id          13428 non-null  int64 \n",
      " 1   First_tran_date  13428 non-null  object\n",
      " 2   Location         13428 non-null  object\n",
      " 3   Age              13428 non-null  object\n",
      " 4   Gender           13428 non-null  object\n",
      "dtypes: int64(1), object(4)\n",
      "memory usage: 524.7+ KB\n"
     ]
    }
   ],
   "source": [
    "user.info()"
   ]
  },
  {
   "cell_type": "markdown",
   "id": "12317a90",
   "metadata": {},
   "source": [
    "> change data types"
   ]
  },
  {
   "cell_type": "code",
   "execution_count": 15,
   "id": "3580deaa",
   "metadata": {},
   "outputs": [],
   "source": [
    "user['First_tran_date']= pd.to_datetime(user['First_tran_date'],errors='coerce')"
   ]
  },
  {
   "cell_type": "code",
   "execution_count": 16,
   "id": "15c14f4d",
   "metadata": {},
   "outputs": [
    {
     "name": "stdout",
     "output_type": "stream",
     "text": [
      "<class 'pandas.core.frame.DataFrame'>\n",
      "RangeIndex: 13428 entries, 0 to 13427\n",
      "Data columns (total 5 columns):\n",
      " #   Column           Non-Null Count  Dtype         \n",
      "---  ------           --------------  -----         \n",
      " 0   User_id          13428 non-null  int64         \n",
      " 1   First_tran_date  13354 non-null  datetime64[ns]\n",
      " 2   Location         13428 non-null  object        \n",
      " 3   Age              13428 non-null  object        \n",
      " 4   Gender           13428 non-null  object        \n",
      "dtypes: datetime64[ns](1), int64(1), object(3)\n",
      "memory usage: 524.7+ KB\n"
     ]
    }
   ],
   "source": [
    "user.info()"
   ]
  },
  {
   "cell_type": "markdown",
   "id": "dd195034",
   "metadata": {},
   "source": [
    "> discover null data for column **First_tran_date** after changing type for **DATE**"
   ]
  },
  {
   "cell_type": "code",
   "execution_count": 17,
   "id": "674ffac9",
   "metadata": {
    "scrolled": true
   },
   "outputs": [
    {
     "data": {
      "text/html": [
       "<div>\n",
       "<style scoped>\n",
       "    .dataframe tbody tr th:only-of-type {\n",
       "        vertical-align: middle;\n",
       "    }\n",
       "\n",
       "    .dataframe tbody tr th {\n",
       "        vertical-align: top;\n",
       "    }\n",
       "\n",
       "    .dataframe thead th {\n",
       "        text-align: right;\n",
       "    }\n",
       "</style>\n",
       "<table border=\"1\" class=\"dataframe\">\n",
       "  <thead>\n",
       "    <tr style=\"text-align: right;\">\n",
       "      <th></th>\n",
       "      <th>User_id</th>\n",
       "      <th>First_tran_date</th>\n",
       "      <th>Location</th>\n",
       "      <th>Age</th>\n",
       "      <th>Gender</th>\n",
       "    </tr>\n",
       "  </thead>\n",
       "  <tbody>\n",
       "    <tr>\n",
       "      <th>321</th>\n",
       "      <td>40047649</td>\n",
       "      <td>NaT</td>\n",
       "      <td>HCMC</td>\n",
       "      <td>23_to_27</td>\n",
       "      <td>MALE</td>\n",
       "    </tr>\n",
       "    <tr>\n",
       "      <th>450</th>\n",
       "      <td>40077417</td>\n",
       "      <td>NaT</td>\n",
       "      <td>HCMC</td>\n",
       "      <td>28_to_32</td>\n",
       "      <td>FEMALE</td>\n",
       "    </tr>\n",
       "    <tr>\n",
       "      <th>553</th>\n",
       "      <td>40062809</td>\n",
       "      <td>NaT</td>\n",
       "      <td>HN</td>\n",
       "      <td>28_to_32</td>\n",
       "      <td>MALE</td>\n",
       "    </tr>\n",
       "    <tr>\n",
       "      <th>913</th>\n",
       "      <td>40043166</td>\n",
       "      <td>NaT</td>\n",
       "      <td>HCMC</td>\n",
       "      <td>28_to_32</td>\n",
       "      <td>FEMALE</td>\n",
       "    </tr>\n",
       "    <tr>\n",
       "      <th>926</th>\n",
       "      <td>40039169</td>\n",
       "      <td>NaT</td>\n",
       "      <td>HCMC</td>\n",
       "      <td>&gt;37</td>\n",
       "      <td>MALE</td>\n",
       "    </tr>\n",
       "    <tr>\n",
       "      <th>1141</th>\n",
       "      <td>40030848</td>\n",
       "      <td>NaT</td>\n",
       "      <td>HCMC</td>\n",
       "      <td>&gt;37</td>\n",
       "      <td>MALE</td>\n",
       "    </tr>\n",
       "    <tr>\n",
       "      <th>1222</th>\n",
       "      <td>40078897</td>\n",
       "      <td>NaT</td>\n",
       "      <td>HCMC</td>\n",
       "      <td>18_to_22</td>\n",
       "      <td>FEMALE</td>\n",
       "    </tr>\n",
       "    <tr>\n",
       "      <th>1280</th>\n",
       "      <td>40082842</td>\n",
       "      <td>NaT</td>\n",
       "      <td>HN</td>\n",
       "      <td>23_to_27</td>\n",
       "      <td>MALE</td>\n",
       "    </tr>\n",
       "    <tr>\n",
       "      <th>1374</th>\n",
       "      <td>40003616</td>\n",
       "      <td>NaT</td>\n",
       "      <td>HCMC</td>\n",
       "      <td>23_to_27</td>\n",
       "      <td>MALE</td>\n",
       "    </tr>\n",
       "    <tr>\n",
       "      <th>1459</th>\n",
       "      <td>40073038</td>\n",
       "      <td>NaT</td>\n",
       "      <td>Other Cities</td>\n",
       "      <td>unknown</td>\n",
       "      <td>MALE</td>\n",
       "    </tr>\n",
       "  </tbody>\n",
       "</table>\n",
       "</div>"
      ],
      "text/plain": [
       "       User_id First_tran_date      Location       Age  Gender\n",
       "321   40047649             NaT          HCMC  23_to_27    MALE\n",
       "450   40077417             NaT          HCMC  28_to_32  FEMALE\n",
       "553   40062809             NaT            HN  28_to_32    MALE\n",
       "913   40043166             NaT          HCMC  28_to_32  FEMALE\n",
       "926   40039169             NaT          HCMC       >37    MALE\n",
       "1141  40030848             NaT          HCMC       >37    MALE\n",
       "1222  40078897             NaT          HCMC  18_to_22  FEMALE\n",
       "1280  40082842             NaT            HN  23_to_27    MALE\n",
       "1374  40003616             NaT          HCMC  23_to_27    MALE\n",
       "1459  40073038             NaT  Other Cities   unknown    MALE"
      ]
     },
     "execution_count": 17,
     "metadata": {},
     "output_type": "execute_result"
    }
   ],
   "source": [
    "user[user['First_tran_date'].isnull()].head(10)"
   ]
  },
  {
   "cell_type": "markdown",
   "id": "6b86ed10",
   "metadata": {},
   "source": [
    "> cross check with original data source --> date are in incorrect format such as '9087-01-20' --> **eliminate** those records"
   ]
  },
  {
   "cell_type": "code",
   "execution_count": 18,
   "id": "b1eea00f",
   "metadata": {},
   "outputs": [],
   "source": [
    "user = user[user['First_tran_date'].notnull()]"
   ]
  },
  {
   "cell_type": "markdown",
   "id": "7dbf1f4f",
   "metadata": {},
   "source": [
    "> check data consistency"
   ]
  },
  {
   "cell_type": "code",
   "execution_count": 19,
   "id": "59920a12",
   "metadata": {},
   "outputs": [
    {
     "name": "stdout",
     "output_type": "stream",
     "text": [
      "['HCMC' 'Other Cities' 'Other' 'HN' 'Unknown' 'Ho Chi Minh City']\n",
      "['33_to_37' 'unknown' '23_to_27' '28_to_32' '18_to_22' '>37']\n",
      "['MALE' 'FEMALE' 'Nữ' 'M' 'female' 'Nam' 'f' 'male']\n"
     ]
    }
   ],
   "source": [
    "print(user['Location'].unique())\n",
    "print(user['Age'].unique())\n",
    "print(user['Gender'].unique())"
   ]
  },
  {
   "cell_type": "code",
   "execution_count": 20,
   "id": "8b32e7fe",
   "metadata": {},
   "outputs": [],
   "source": [
    "user['Location'] = user['Location'].replace({'HCMC':'Ho Chi Minh City','HN':'Ha Noi','Other Cities':'Other'})\n",
    "user['Gender'] = user['Gender'].replace({'MALE':'M','Nam':'M','male':'M','FEMALE':'F','Nữ':'F','female':'F','f':'F'})"
   ]
  },
  {
   "cell_type": "markdown",
   "id": "d0167a1b",
   "metadata": {},
   "source": [
    "> validate the change "
   ]
  },
  {
   "cell_type": "code",
   "execution_count": 21,
   "id": "0f9bc039",
   "metadata": {},
   "outputs": [
    {
     "name": "stdout",
     "output_type": "stream",
     "text": [
      "['Ho Chi Minh City' 'Other' 'Ha Noi' 'Unknown']\n",
      "['33_to_37' 'unknown' '23_to_27' '28_to_32' '18_to_22' '>37']\n",
      "['M' 'F']\n"
     ]
    }
   ],
   "source": [
    "print(user['Location'].unique())\n",
    "print(user['Age'].unique())\n",
    "print(user['Gender'].unique())"
   ]
  },
  {
   "attachments": {},
   "cell_type": "markdown",
   "id": "a990e7a8",
   "metadata": {},
   "source": [
    "### 1) Using data from the 'Commission' table, add a column 'Revenue' in the 'Transactions' table that displays MoMo's earned revenue for each order, and then calculate MoMo's total revenue in January 2020.\t\n",
    "\n",
    "### 2) What is MoMo's most profitable month?"
   ]
  },
  {
   "cell_type": "code",
   "execution_count": 22,
   "id": "6d06e0e9",
   "metadata": {
    "scrolled": true
   },
   "outputs": [
    {
     "data": {
      "text/html": [
       "<div>\n",
       "<style scoped>\n",
       "    .dataframe tbody tr th:only-of-type {\n",
       "        vertical-align: middle;\n",
       "    }\n",
       "\n",
       "    .dataframe tbody tr th {\n",
       "        vertical-align: top;\n",
       "    }\n",
       "\n",
       "    .dataframe thead th {\n",
       "        text-align: right;\n",
       "    }\n",
       "</style>\n",
       "<table border=\"1\" class=\"dataframe\">\n",
       "  <thead>\n",
       "    <tr style=\"text-align: right;\">\n",
       "      <th></th>\n",
       "      <th>user_id</th>\n",
       "      <th>order_id</th>\n",
       "      <th>Date</th>\n",
       "      <th>Amount</th>\n",
       "      <th>Merchant_id</th>\n",
       "      <th>Purchase_status</th>\n",
       "      <th>Merchant_name</th>\n",
       "      <th>Rate_pct</th>\n",
       "    </tr>\n",
       "  </thead>\n",
       "  <tbody>\n",
       "    <tr>\n",
       "      <th>0</th>\n",
       "      <td>21269588</td>\n",
       "      <td>4169517626</td>\n",
       "      <td>2020-01-01</td>\n",
       "      <td>10000</td>\n",
       "      <td>13</td>\n",
       "      <td>Direct Sale</td>\n",
       "      <td>Mobifone</td>\n",
       "      <td>3</td>\n",
       "    </tr>\n",
       "    <tr>\n",
       "      <th>1</th>\n",
       "      <td>28097592</td>\n",
       "      <td>4170276686</td>\n",
       "      <td>2020-01-01</td>\n",
       "      <td>20000</td>\n",
       "      <td>13</td>\n",
       "      <td>Direct Sale</td>\n",
       "      <td>Mobifone</td>\n",
       "      <td>3</td>\n",
       "    </tr>\n",
       "    <tr>\n",
       "      <th>2</th>\n",
       "      <td>29080935</td>\n",
       "      <td>4174460303</td>\n",
       "      <td>2020-01-01</td>\n",
       "      <td>10000</td>\n",
       "      <td>13</td>\n",
       "      <td>Direct Sale</td>\n",
       "      <td>Mobifone</td>\n",
       "      <td>3</td>\n",
       "    </tr>\n",
       "    <tr>\n",
       "      <th>3</th>\n",
       "      <td>50568745</td>\n",
       "      <td>4168401164</td>\n",
       "      <td>2020-01-01</td>\n",
       "      <td>10000</td>\n",
       "      <td>13</td>\n",
       "      <td>Direct Sale</td>\n",
       "      <td>Mobifone</td>\n",
       "      <td>3</td>\n",
       "    </tr>\n",
       "    <tr>\n",
       "      <th>4</th>\n",
       "      <td>42275799</td>\n",
       "      <td>4174262889</td>\n",
       "      <td>2020-01-01</td>\n",
       "      <td>50000</td>\n",
       "      <td>13</td>\n",
       "      <td>Direct Sale</td>\n",
       "      <td>Mobifone</td>\n",
       "      <td>3</td>\n",
       "    </tr>\n",
       "  </tbody>\n",
       "</table>\n",
       "</div>"
      ],
      "text/plain": [
       "    user_id    order_id       Date  Amount  Merchant_id Purchase_status  \\\n",
       "0  21269588  4169517626 2020-01-01   10000           13     Direct Sale   \n",
       "1  28097592  4170276686 2020-01-01   20000           13     Direct Sale   \n",
       "2  29080935  4174460303 2020-01-01   10000           13     Direct Sale   \n",
       "3  50568745  4168401164 2020-01-01   10000           13     Direct Sale   \n",
       "4  42275799  4174262889 2020-01-01   50000           13     Direct Sale   \n",
       "\n",
       "  Merchant_name  Rate_pct  \n",
       "0      Mobifone         3  \n",
       "1      Mobifone         3  \n",
       "2      Mobifone         3  \n",
       "3      Mobifone         3  \n",
       "4      Mobifone         3  "
      ]
     },
     "execution_count": 22,
     "metadata": {},
     "output_type": "execute_result"
    }
   ],
   "source": [
    "transaction=pd.merge(transaction,comission,on='Merchant_id')\n",
    "transaction.head()"
   ]
  },
  {
   "cell_type": "code",
   "execution_count": 23,
   "id": "7c1a5e49",
   "metadata": {},
   "outputs": [],
   "source": [
    "transaction['Revenue'] = transaction['Amount']*transaction['Rate_pct']/100"
   ]
  },
  {
   "cell_type": "code",
   "execution_count": 24,
   "id": "fff9655a",
   "metadata": {},
   "outputs": [],
   "source": [
    "monthly_revenue = transaction.groupby(transaction['Date'].dt.to_period('M'))['Revenue'].sum().reset_index()\n",
    "monthly_revenue.sort_values(by='Revenue', ascending=False, inplace=True)"
   ]
  },
  {
   "cell_type": "code",
   "execution_count": 25,
   "id": "d0817a80",
   "metadata": {},
   "outputs": [
    {
     "data": {
      "text/html": [
       "<div>\n",
       "<style scoped>\n",
       "    .dataframe tbody tr th:only-of-type {\n",
       "        vertical-align: middle;\n",
       "    }\n",
       "\n",
       "    .dataframe tbody tr th {\n",
       "        vertical-align: top;\n",
       "    }\n",
       "\n",
       "    .dataframe thead th {\n",
       "        text-align: right;\n",
       "    }\n",
       "</style>\n",
       "<table border=\"1\" class=\"dataframe\">\n",
       "  <thead>\n",
       "    <tr style=\"text-align: right;\">\n",
       "      <th></th>\n",
       "      <th>Date</th>\n",
       "      <th>Revenue</th>\n",
       "    </tr>\n",
       "  </thead>\n",
       "  <tbody>\n",
       "    <tr>\n",
       "      <th>8</th>\n",
       "      <td>2020-09</td>\n",
       "      <td>1702200.00</td>\n",
       "    </tr>\n",
       "    <tr>\n",
       "      <th>9</th>\n",
       "      <td>2020-10</td>\n",
       "      <td>1690900.00</td>\n",
       "    </tr>\n",
       "    <tr>\n",
       "      <th>11</th>\n",
       "      <td>2020-12</td>\n",
       "      <td>1638200.00</td>\n",
       "    </tr>\n",
       "    <tr>\n",
       "      <th>7</th>\n",
       "      <td>2020-08</td>\n",
       "      <td>1618700.00</td>\n",
       "    </tr>\n",
       "    <tr>\n",
       "      <th>5</th>\n",
       "      <td>2020-06</td>\n",
       "      <td>1617200.00</td>\n",
       "    </tr>\n",
       "    <tr>\n",
       "      <th>2</th>\n",
       "      <td>2020-03</td>\n",
       "      <td>1584000.00</td>\n",
       "    </tr>\n",
       "    <tr>\n",
       "      <th>6</th>\n",
       "      <td>2020-07</td>\n",
       "      <td>1581900.00</td>\n",
       "    </tr>\n",
       "    <tr>\n",
       "      <th>10</th>\n",
       "      <td>2020-11</td>\n",
       "      <td>1539300.00</td>\n",
       "    </tr>\n",
       "    <tr>\n",
       "      <th>3</th>\n",
       "      <td>2020-04</td>\n",
       "      <td>1488300.00</td>\n",
       "    </tr>\n",
       "    <tr>\n",
       "      <th>4</th>\n",
       "      <td>2020-05</td>\n",
       "      <td>1463700.00</td>\n",
       "    </tr>\n",
       "    <tr>\n",
       "      <th>0</th>\n",
       "      <td>2020-01</td>\n",
       "      <td>1409827.02</td>\n",
       "    </tr>\n",
       "    <tr>\n",
       "      <th>1</th>\n",
       "      <td>2020-02</td>\n",
       "      <td>1378500.00</td>\n",
       "    </tr>\n",
       "  </tbody>\n",
       "</table>\n",
       "</div>"
      ],
      "text/plain": [
       "       Date     Revenue\n",
       "8   2020-09  1702200.00\n",
       "9   2020-10  1690900.00\n",
       "11  2020-12  1638200.00\n",
       "7   2020-08  1618700.00\n",
       "5   2020-06  1617200.00\n",
       "2   2020-03  1584000.00\n",
       "6   2020-07  1581900.00\n",
       "10  2020-11  1539300.00\n",
       "3   2020-04  1488300.00\n",
       "4   2020-05  1463700.00\n",
       "0   2020-01  1409827.02\n",
       "1   2020-02  1378500.00"
      ]
     },
     "execution_count": 25,
     "metadata": {},
     "output_type": "execute_result"
    }
   ],
   "source": [
    "monthly_revenue"
   ]
  },
  {
   "cell_type": "markdown",
   "id": "3d7c81a9",
   "metadata": {},
   "source": [
    "MoMo's total revenue in January 2020 is 1,409,827.02\n",
    "\n",
    "MoMo's most profitable month is September 2020"
   ]
  },
  {
   "attachments": {},
   "cell_type": "markdown",
   "id": "abf5fed6",
   "metadata": {},
   "source": [
    "### What day of the week does MoMo make the most money, on average? The least money?"
   ]
  },
  {
   "cell_type": "code",
   "execution_count": 26,
   "id": "4dab472c",
   "metadata": {},
   "outputs": [
    {
     "data": {
      "text/html": [
       "<div>\n",
       "<style scoped>\n",
       "    .dataframe tbody tr th:only-of-type {\n",
       "        vertical-align: middle;\n",
       "    }\n",
       "\n",
       "    .dataframe tbody tr th {\n",
       "        vertical-align: top;\n",
       "    }\n",
       "\n",
       "    .dataframe thead th {\n",
       "        text-align: right;\n",
       "    }\n",
       "</style>\n",
       "<table border=\"1\" class=\"dataframe\">\n",
       "  <thead>\n",
       "    <tr style=\"text-align: right;\">\n",
       "      <th></th>\n",
       "      <th>user_id</th>\n",
       "      <th>order_id</th>\n",
       "      <th>Date</th>\n",
       "      <th>Amount</th>\n",
       "      <th>Merchant_id</th>\n",
       "      <th>Purchase_status</th>\n",
       "      <th>Merchant_name</th>\n",
       "      <th>Rate_pct</th>\n",
       "      <th>Revenue</th>\n",
       "      <th>Day_of_Week</th>\n",
       "    </tr>\n",
       "  </thead>\n",
       "  <tbody>\n",
       "    <tr>\n",
       "      <th>0</th>\n",
       "      <td>21269588</td>\n",
       "      <td>4169517626</td>\n",
       "      <td>2020-01-01</td>\n",
       "      <td>10000</td>\n",
       "      <td>13</td>\n",
       "      <td>Direct Sale</td>\n",
       "      <td>Mobifone</td>\n",
       "      <td>3</td>\n",
       "      <td>300.0</td>\n",
       "      <td>Wednesday</td>\n",
       "    </tr>\n",
       "    <tr>\n",
       "      <th>1</th>\n",
       "      <td>28097592</td>\n",
       "      <td>4170276686</td>\n",
       "      <td>2020-01-01</td>\n",
       "      <td>20000</td>\n",
       "      <td>13</td>\n",
       "      <td>Direct Sale</td>\n",
       "      <td>Mobifone</td>\n",
       "      <td>3</td>\n",
       "      <td>600.0</td>\n",
       "      <td>Wednesday</td>\n",
       "    </tr>\n",
       "    <tr>\n",
       "      <th>2</th>\n",
       "      <td>29080935</td>\n",
       "      <td>4174460303</td>\n",
       "      <td>2020-01-01</td>\n",
       "      <td>10000</td>\n",
       "      <td>13</td>\n",
       "      <td>Direct Sale</td>\n",
       "      <td>Mobifone</td>\n",
       "      <td>3</td>\n",
       "      <td>300.0</td>\n",
       "      <td>Wednesday</td>\n",
       "    </tr>\n",
       "    <tr>\n",
       "      <th>3</th>\n",
       "      <td>50568745</td>\n",
       "      <td>4168401164</td>\n",
       "      <td>2020-01-01</td>\n",
       "      <td>10000</td>\n",
       "      <td>13</td>\n",
       "      <td>Direct Sale</td>\n",
       "      <td>Mobifone</td>\n",
       "      <td>3</td>\n",
       "      <td>300.0</td>\n",
       "      <td>Wednesday</td>\n",
       "    </tr>\n",
       "    <tr>\n",
       "      <th>4</th>\n",
       "      <td>42275799</td>\n",
       "      <td>4174262889</td>\n",
       "      <td>2020-01-01</td>\n",
       "      <td>50000</td>\n",
       "      <td>13</td>\n",
       "      <td>Direct Sale</td>\n",
       "      <td>Mobifone</td>\n",
       "      <td>3</td>\n",
       "      <td>1500.0</td>\n",
       "      <td>Wednesday</td>\n",
       "    </tr>\n",
       "  </tbody>\n",
       "</table>\n",
       "</div>"
      ],
      "text/plain": [
       "    user_id    order_id       Date  Amount  Merchant_id Purchase_status  \\\n",
       "0  21269588  4169517626 2020-01-01   10000           13     Direct Sale   \n",
       "1  28097592  4170276686 2020-01-01   20000           13     Direct Sale   \n",
       "2  29080935  4174460303 2020-01-01   10000           13     Direct Sale   \n",
       "3  50568745  4168401164 2020-01-01   10000           13     Direct Sale   \n",
       "4  42275799  4174262889 2020-01-01   50000           13     Direct Sale   \n",
       "\n",
       "  Merchant_name  Rate_pct  Revenue Day_of_Week  \n",
       "0      Mobifone         3    300.0   Wednesday  \n",
       "1      Mobifone         3    600.0   Wednesday  \n",
       "2      Mobifone         3    300.0   Wednesday  \n",
       "3      Mobifone         3    300.0   Wednesday  \n",
       "4      Mobifone         3   1500.0   Wednesday  "
      ]
     },
     "execution_count": 26,
     "metadata": {},
     "output_type": "execute_result"
    }
   ],
   "source": [
    "transaction['Day_of_Week'] = transaction['Date'].dt.dayofweek.map({\n",
    "    0: 'Monday',\n",
    "    1: 'Tuesday',\n",
    "    2: 'Wednesday',\n",
    "    3: 'Thursday',\n",
    "    4: 'Friday',\n",
    "    5: 'Saturday',\n",
    "    6: 'Sunday'\n",
    "})\n",
    "transaction.head()"
   ]
  },
  {
   "cell_type": "code",
   "execution_count": 27,
   "id": "8824aa41",
   "metadata": {
    "scrolled": false
   },
   "outputs": [
    {
     "data": {
      "text/html": [
       "<div>\n",
       "<style scoped>\n",
       "    .dataframe tbody tr th:only-of-type {\n",
       "        vertical-align: middle;\n",
       "    }\n",
       "\n",
       "    .dataframe tbody tr th {\n",
       "        vertical-align: top;\n",
       "    }\n",
       "\n",
       "    .dataframe thead th {\n",
       "        text-align: right;\n",
       "    }\n",
       "</style>\n",
       "<table border=\"1\" class=\"dataframe\">\n",
       "  <thead>\n",
       "    <tr style=\"text-align: right;\">\n",
       "      <th></th>\n",
       "      <th>Day_of_Week</th>\n",
       "      <th>Revenue</th>\n",
       "    </tr>\n",
       "  </thead>\n",
       "  <tbody>\n",
       "    <tr>\n",
       "      <th>6</th>\n",
       "      <td>Wednesday</td>\n",
       "      <td>1482.535075</td>\n",
       "    </tr>\n",
       "    <tr>\n",
       "      <th>4</th>\n",
       "      <td>Thursday</td>\n",
       "      <td>1411.190598</td>\n",
       "    </tr>\n",
       "    <tr>\n",
       "      <th>0</th>\n",
       "      <td>Friday</td>\n",
       "      <td>1408.213041</td>\n",
       "    </tr>\n",
       "    <tr>\n",
       "      <th>5</th>\n",
       "      <td>Tuesday</td>\n",
       "      <td>1401.358412</td>\n",
       "    </tr>\n",
       "    <tr>\n",
       "      <th>2</th>\n",
       "      <td>Saturday</td>\n",
       "      <td>1376.099946</td>\n",
       "    </tr>\n",
       "    <tr>\n",
       "      <th>3</th>\n",
       "      <td>Sunday</td>\n",
       "      <td>1308.042408</td>\n",
       "    </tr>\n",
       "    <tr>\n",
       "      <th>1</th>\n",
       "      <td>Monday</td>\n",
       "      <td>1304.437564</td>\n",
       "    </tr>\n",
       "  </tbody>\n",
       "</table>\n",
       "</div>"
      ],
      "text/plain": [
       "  Day_of_Week      Revenue\n",
       "6   Wednesday  1482.535075\n",
       "4    Thursday  1411.190598\n",
       "0      Friday  1408.213041\n",
       "5     Tuesday  1401.358412\n",
       "2    Saturday  1376.099946\n",
       "3      Sunday  1308.042408\n",
       "1      Monday  1304.437564"
      ]
     },
     "execution_count": 27,
     "metadata": {},
     "output_type": "execute_result"
    }
   ],
   "source": [
    "dow_revenue = transaction.groupby(transaction['Day_of_Week'])['Revenue'].mean().reset_index()\n",
    "dow_revenue.sort_values(by='Revenue', ascending=False, inplace=True)\n",
    "dow_revenue"
   ]
  },
  {
   "cell_type": "markdown",
   "id": "45725498",
   "metadata": {},
   "source": [
    "Wednesday is the most profitable day of the week while Monday is the least profitable"
   ]
  },
  {
   "attachments": {},
   "cell_type": "markdown",
   "id": "6267ec74",
   "metadata": {},
   "source": [
    "### \t4\tCombined with the 'User_Info' table, add columns: Age, Gender, Location, Type_user (New/Current) in 'Transactions' table and calculate the total number of new users in December 2020.\t\t\t\t\t\t\t\t\t\t\n",
    "\t\t     "
   ]
  },
  {
   "cell_type": "code",
   "execution_count": 28,
   "id": "acc27e11",
   "metadata": {},
   "outputs": [
    {
     "data": {
      "text/html": [
       "<div>\n",
       "<style scoped>\n",
       "    .dataframe tbody tr th:only-of-type {\n",
       "        vertical-align: middle;\n",
       "    }\n",
       "\n",
       "    .dataframe tbody tr th {\n",
       "        vertical-align: top;\n",
       "    }\n",
       "\n",
       "    .dataframe thead th {\n",
       "        text-align: right;\n",
       "    }\n",
       "</style>\n",
       "<table border=\"1\" class=\"dataframe\">\n",
       "  <thead>\n",
       "    <tr style=\"text-align: right;\">\n",
       "      <th></th>\n",
       "      <th>user_id</th>\n",
       "      <th>order_id</th>\n",
       "      <th>Date</th>\n",
       "      <th>Amount</th>\n",
       "      <th>Merchant_id</th>\n",
       "      <th>Purchase_status</th>\n",
       "      <th>Merchant_name</th>\n",
       "      <th>Rate_pct</th>\n",
       "      <th>Revenue</th>\n",
       "      <th>Day_of_Week</th>\n",
       "      <th>First_tran_date</th>\n",
       "      <th>Location</th>\n",
       "      <th>Age</th>\n",
       "      <th>Gender</th>\n",
       "    </tr>\n",
       "  </thead>\n",
       "  <tbody>\n",
       "    <tr>\n",
       "      <th>0</th>\n",
       "      <td>21269588</td>\n",
       "      <td>4169517626</td>\n",
       "      <td>2020-01-01</td>\n",
       "      <td>10000</td>\n",
       "      <td>13</td>\n",
       "      <td>Direct Sale</td>\n",
       "      <td>Mobifone</td>\n",
       "      <td>3</td>\n",
       "      <td>300.0</td>\n",
       "      <td>Wednesday</td>\n",
       "      <td>2018-12-11</td>\n",
       "      <td>Ha Noi</td>\n",
       "      <td>&gt;37</td>\n",
       "      <td>F</td>\n",
       "    </tr>\n",
       "    <tr>\n",
       "      <th>1</th>\n",
       "      <td>28097592</td>\n",
       "      <td>4170276686</td>\n",
       "      <td>2020-01-01</td>\n",
       "      <td>20000</td>\n",
       "      <td>13</td>\n",
       "      <td>Direct Sale</td>\n",
       "      <td>Mobifone</td>\n",
       "      <td>3</td>\n",
       "      <td>600.0</td>\n",
       "      <td>Wednesday</td>\n",
       "      <td>2019-12-30</td>\n",
       "      <td>Ha Noi</td>\n",
       "      <td>&gt;37</td>\n",
       "      <td>F</td>\n",
       "    </tr>\n",
       "    <tr>\n",
       "      <th>2</th>\n",
       "      <td>29080935</td>\n",
       "      <td>4174460303</td>\n",
       "      <td>2020-01-01</td>\n",
       "      <td>10000</td>\n",
       "      <td>13</td>\n",
       "      <td>Direct Sale</td>\n",
       "      <td>Mobifone</td>\n",
       "      <td>3</td>\n",
       "      <td>300.0</td>\n",
       "      <td>Wednesday</td>\n",
       "      <td>2019-10-24</td>\n",
       "      <td>Ha Noi</td>\n",
       "      <td>18_to_22</td>\n",
       "      <td>F</td>\n",
       "    </tr>\n",
       "    <tr>\n",
       "      <th>3</th>\n",
       "      <td>50568745</td>\n",
       "      <td>4168401164</td>\n",
       "      <td>2020-01-01</td>\n",
       "      <td>10000</td>\n",
       "      <td>13</td>\n",
       "      <td>Direct Sale</td>\n",
       "      <td>Mobifone</td>\n",
       "      <td>3</td>\n",
       "      <td>300.0</td>\n",
       "      <td>Wednesday</td>\n",
       "      <td>2019-11-07</td>\n",
       "      <td>Other</td>\n",
       "      <td>23_to_27</td>\n",
       "      <td>F</td>\n",
       "    </tr>\n",
       "    <tr>\n",
       "      <th>4</th>\n",
       "      <td>42275799</td>\n",
       "      <td>4174262889</td>\n",
       "      <td>2020-01-01</td>\n",
       "      <td>50000</td>\n",
       "      <td>13</td>\n",
       "      <td>Direct Sale</td>\n",
       "      <td>Mobifone</td>\n",
       "      <td>3</td>\n",
       "      <td>1500.0</td>\n",
       "      <td>Wednesday</td>\n",
       "      <td>2019-10-18</td>\n",
       "      <td>Ha Noi</td>\n",
       "      <td>28_to_32</td>\n",
       "      <td>F</td>\n",
       "    </tr>\n",
       "  </tbody>\n",
       "</table>\n",
       "</div>"
      ],
      "text/plain": [
       "    user_id    order_id       Date  Amount  Merchant_id Purchase_status  \\\n",
       "0  21269588  4169517626 2020-01-01   10000           13     Direct Sale   \n",
       "1  28097592  4170276686 2020-01-01   20000           13     Direct Sale   \n",
       "2  29080935  4174460303 2020-01-01   10000           13     Direct Sale   \n",
       "3  50568745  4168401164 2020-01-01   10000           13     Direct Sale   \n",
       "4  42275799  4174262889 2020-01-01   50000           13     Direct Sale   \n",
       "\n",
       "  Merchant_name  Rate_pct  Revenue Day_of_Week First_tran_date Location  \\\n",
       "0      Mobifone         3    300.0   Wednesday      2018-12-11   Ha Noi   \n",
       "1      Mobifone         3    600.0   Wednesday      2019-12-30   Ha Noi   \n",
       "2      Mobifone         3    300.0   Wednesday      2019-10-24   Ha Noi   \n",
       "3      Mobifone         3    300.0   Wednesday      2019-11-07    Other   \n",
       "4      Mobifone         3   1500.0   Wednesday      2019-10-18   Ha Noi   \n",
       "\n",
       "        Age Gender  \n",
       "0       >37      F  \n",
       "1       >37      F  \n",
       "2  18_to_22      F  \n",
       "3  23_to_27      F  \n",
       "4  28_to_32      F  "
      ]
     },
     "execution_count": 28,
     "metadata": {},
     "output_type": "execute_result"
    }
   ],
   "source": [
    "final = pd.merge(transaction,user,left_on='user_id', right_on='User_id', how= 'left')\n",
    "final.drop(columns=['User_id'], inplace=True)\n",
    "final.head()"
   ]
  },
  {
   "cell_type": "code",
   "execution_count": 29,
   "id": "5433c8d6",
   "metadata": {},
   "outputs": [
    {
     "name": "stdout",
     "output_type": "stream",
     "text": [
      "<class 'pandas.core.frame.DataFrame'>\n",
      "Int64Index: 13576 entries, 0 to 13575\n",
      "Data columns (total 14 columns):\n",
      " #   Column           Non-Null Count  Dtype         \n",
      "---  ------           --------------  -----         \n",
      " 0   user_id          13576 non-null  int64         \n",
      " 1   order_id         13576 non-null  int64         \n",
      " 2   Date             13576 non-null  datetime64[ns]\n",
      " 3   Amount           13576 non-null  int64         \n",
      " 4   Merchant_id      13576 non-null  int64         \n",
      " 5   Purchase_status  13576 non-null  object        \n",
      " 6   Merchant_name    13576 non-null  object        \n",
      " 7   Rate_pct         13576 non-null  int64         \n",
      " 8   Revenue          13576 non-null  float64       \n",
      " 9   Day_of_Week      13576 non-null  object        \n",
      " 10  First_tran_date  13502 non-null  datetime64[ns]\n",
      " 11  Location         13502 non-null  object        \n",
      " 12  Age              13502 non-null  object        \n",
      " 13  Gender           13502 non-null  object        \n",
      "dtypes: datetime64[ns](2), float64(1), int64(5), object(6)\n",
      "memory usage: 1.6+ MB\n"
     ]
    }
   ],
   "source": [
    "final.info()"
   ]
  },
  {
   "cell_type": "markdown",
   "id": "0ba15c8e",
   "metadata": {},
   "source": [
    "> Cross check with original source and there are cases we have **User perform the transaction** but their **infomation not in the User table** --> eliminate those"
   ]
  },
  {
   "cell_type": "code",
   "execution_count": 30,
   "id": "bd753bda",
   "metadata": {},
   "outputs": [],
   "source": [
    "final = final[final['First_tran_date'].notnull()]"
   ]
  },
  {
   "cell_type": "code",
   "execution_count": 31,
   "id": "3ad8066a",
   "metadata": {},
   "outputs": [
    {
     "data": {
      "text/html": [
       "<div>\n",
       "<style scoped>\n",
       "    .dataframe tbody tr th:only-of-type {\n",
       "        vertical-align: middle;\n",
       "    }\n",
       "\n",
       "    .dataframe tbody tr th {\n",
       "        vertical-align: top;\n",
       "    }\n",
       "\n",
       "    .dataframe thead th {\n",
       "        text-align: right;\n",
       "    }\n",
       "</style>\n",
       "<table border=\"1\" class=\"dataframe\">\n",
       "  <thead>\n",
       "    <tr style=\"text-align: right;\">\n",
       "      <th></th>\n",
       "      <th>user_id</th>\n",
       "      <th>order_id</th>\n",
       "      <th>Date</th>\n",
       "      <th>Amount</th>\n",
       "      <th>Merchant_id</th>\n",
       "      <th>Purchase_status</th>\n",
       "      <th>Merchant_name</th>\n",
       "      <th>Rate_pct</th>\n",
       "      <th>Revenue</th>\n",
       "      <th>Day_of_Week</th>\n",
       "      <th>First_tran_date</th>\n",
       "      <th>Location</th>\n",
       "      <th>Age</th>\n",
       "      <th>Gender</th>\n",
       "    </tr>\n",
       "  </thead>\n",
       "  <tbody>\n",
       "    <tr>\n",
       "      <th>0</th>\n",
       "      <td>21269588</td>\n",
       "      <td>4169517626</td>\n",
       "      <td>2020-01-01</td>\n",
       "      <td>10000</td>\n",
       "      <td>13</td>\n",
       "      <td>Direct Sale</td>\n",
       "      <td>Mobifone</td>\n",
       "      <td>3</td>\n",
       "      <td>300.0</td>\n",
       "      <td>Wednesday</td>\n",
       "      <td>2018-12-11</td>\n",
       "      <td>Ha Noi</td>\n",
       "      <td>&gt;37</td>\n",
       "      <td>F</td>\n",
       "    </tr>\n",
       "    <tr>\n",
       "      <th>1</th>\n",
       "      <td>28097592</td>\n",
       "      <td>4170276686</td>\n",
       "      <td>2020-01-01</td>\n",
       "      <td>20000</td>\n",
       "      <td>13</td>\n",
       "      <td>Direct Sale</td>\n",
       "      <td>Mobifone</td>\n",
       "      <td>3</td>\n",
       "      <td>600.0</td>\n",
       "      <td>Wednesday</td>\n",
       "      <td>2019-12-30</td>\n",
       "      <td>Ha Noi</td>\n",
       "      <td>&gt;37</td>\n",
       "      <td>F</td>\n",
       "    </tr>\n",
       "    <tr>\n",
       "      <th>2</th>\n",
       "      <td>29080935</td>\n",
       "      <td>4174460303</td>\n",
       "      <td>2020-01-01</td>\n",
       "      <td>10000</td>\n",
       "      <td>13</td>\n",
       "      <td>Direct Sale</td>\n",
       "      <td>Mobifone</td>\n",
       "      <td>3</td>\n",
       "      <td>300.0</td>\n",
       "      <td>Wednesday</td>\n",
       "      <td>2019-10-24</td>\n",
       "      <td>Ha Noi</td>\n",
       "      <td>18_to_22</td>\n",
       "      <td>F</td>\n",
       "    </tr>\n",
       "    <tr>\n",
       "      <th>3</th>\n",
       "      <td>50568745</td>\n",
       "      <td>4168401164</td>\n",
       "      <td>2020-01-01</td>\n",
       "      <td>10000</td>\n",
       "      <td>13</td>\n",
       "      <td>Direct Sale</td>\n",
       "      <td>Mobifone</td>\n",
       "      <td>3</td>\n",
       "      <td>300.0</td>\n",
       "      <td>Wednesday</td>\n",
       "      <td>2019-11-07</td>\n",
       "      <td>Other</td>\n",
       "      <td>23_to_27</td>\n",
       "      <td>F</td>\n",
       "    </tr>\n",
       "    <tr>\n",
       "      <th>4</th>\n",
       "      <td>42275799</td>\n",
       "      <td>4174262889</td>\n",
       "      <td>2020-01-01</td>\n",
       "      <td>50000</td>\n",
       "      <td>13</td>\n",
       "      <td>Direct Sale</td>\n",
       "      <td>Mobifone</td>\n",
       "      <td>3</td>\n",
       "      <td>1500.0</td>\n",
       "      <td>Wednesday</td>\n",
       "      <td>2019-10-18</td>\n",
       "      <td>Ha Noi</td>\n",
       "      <td>28_to_32</td>\n",
       "      <td>F</td>\n",
       "    </tr>\n",
       "  </tbody>\n",
       "</table>\n",
       "</div>"
      ],
      "text/plain": [
       "    user_id    order_id       Date  Amount  Merchant_id Purchase_status  \\\n",
       "0  21269588  4169517626 2020-01-01   10000           13     Direct Sale   \n",
       "1  28097592  4170276686 2020-01-01   20000           13     Direct Sale   \n",
       "2  29080935  4174460303 2020-01-01   10000           13     Direct Sale   \n",
       "3  50568745  4168401164 2020-01-01   10000           13     Direct Sale   \n",
       "4  42275799  4174262889 2020-01-01   50000           13     Direct Sale   \n",
       "\n",
       "  Merchant_name  Rate_pct  Revenue Day_of_Week First_tran_date Location  \\\n",
       "0      Mobifone         3    300.0   Wednesday      2018-12-11   Ha Noi   \n",
       "1      Mobifone         3    600.0   Wednesday      2019-12-30   Ha Noi   \n",
       "2      Mobifone         3    300.0   Wednesday      2019-10-24   Ha Noi   \n",
       "3      Mobifone         3    300.0   Wednesday      2019-11-07    Other   \n",
       "4      Mobifone         3   1500.0   Wednesday      2019-10-18   Ha Noi   \n",
       "\n",
       "        Age Gender  \n",
       "0       >37      F  \n",
       "1       >37      F  \n",
       "2  18_to_22      F  \n",
       "3  23_to_27      F  \n",
       "4  28_to_32      F  "
      ]
     },
     "execution_count": 31,
     "metadata": {},
     "output_type": "execute_result"
    }
   ],
   "source": [
    "final.head()"
   ]
  },
  {
   "cell_type": "code",
   "execution_count": 32,
   "id": "222e5c15",
   "metadata": {},
   "outputs": [
    {
     "name": "stdout",
     "output_type": "stream",
     "text": [
      "<class 'pandas.core.frame.DataFrame'>\n",
      "Int64Index: 13502 entries, 0 to 13575\n",
      "Data columns (total 14 columns):\n",
      " #   Column           Non-Null Count  Dtype         \n",
      "---  ------           --------------  -----         \n",
      " 0   user_id          13502 non-null  int64         \n",
      " 1   order_id         13502 non-null  int64         \n",
      " 2   Date             13502 non-null  datetime64[ns]\n",
      " 3   Amount           13502 non-null  int64         \n",
      " 4   Merchant_id      13502 non-null  int64         \n",
      " 5   Purchase_status  13502 non-null  object        \n",
      " 6   Merchant_name    13502 non-null  object        \n",
      " 7   Rate_pct         13502 non-null  int64         \n",
      " 8   Revenue          13502 non-null  float64       \n",
      " 9   Day_of_Week      13502 non-null  object        \n",
      " 10  First_tran_date  13502 non-null  datetime64[ns]\n",
      " 11  Location         13502 non-null  object        \n",
      " 12  Age              13502 non-null  object        \n",
      " 13  Gender           13502 non-null  object        \n",
      "dtypes: datetime64[ns](2), float64(1), int64(5), object(6)\n",
      "memory usage: 1.5+ MB\n"
     ]
    }
   ],
   "source": [
    "final.info()"
   ]
  },
  {
   "cell_type": "code",
   "execution_count": 33,
   "id": "c3f1a661",
   "metadata": {},
   "outputs": [],
   "source": [
    "final['Date_Month_Year'] = final['Date'].dt.to_period('M')\n",
    "final['First_tran_Month_Year'] = final['First_tran_date'].dt.to_period('M')\n",
    "\n",
    "# Compare month and year components\n",
    "final['New/Current'] = final.apply(lambda row: 'New' if row['Date_Month_Year'] <= row['First_tran_Month_Year'] else 'Current', axis=1)\n",
    "\n",
    "# Drop intermediate columns\n",
    "final.drop(['Date_Month_Year', 'First_tran_Month_Year'], axis=1, inplace=True)"
   ]
  },
  {
   "cell_type": "code",
   "execution_count": 34,
   "id": "b49f3264",
   "metadata": {},
   "outputs": [],
   "source": [
    "december_trans = final[final['Date'].dt.to_period('M') == '2020-12']"
   ]
  },
  {
   "cell_type": "code",
   "execution_count": 35,
   "id": "7ec5672c",
   "metadata": {},
   "outputs": [
    {
     "name": "stdout",
     "output_type": "stream",
     "text": [
      "<class 'pandas.core.frame.DataFrame'>\n",
      "Int64Index: 1295 entries, 3420 to 13572\n",
      "Data columns (total 15 columns):\n",
      " #   Column           Non-Null Count  Dtype         \n",
      "---  ------           --------------  -----         \n",
      " 0   user_id          1295 non-null   int64         \n",
      " 1   order_id         1295 non-null   int64         \n",
      " 2   Date             1295 non-null   datetime64[ns]\n",
      " 3   Amount           1295 non-null   int64         \n",
      " 4   Merchant_id      1295 non-null   int64         \n",
      " 5   Purchase_status  1295 non-null   object        \n",
      " 6   Merchant_name    1295 non-null   object        \n",
      " 7   Rate_pct         1295 non-null   int64         \n",
      " 8   Revenue          1295 non-null   float64       \n",
      " 9   Day_of_Week      1295 non-null   object        \n",
      " 10  First_tran_date  1295 non-null   datetime64[ns]\n",
      " 11  Location         1295 non-null   object        \n",
      " 12  Age              1295 non-null   object        \n",
      " 13  Gender           1295 non-null   object        \n",
      " 14  New/Current      1295 non-null   object        \n",
      "dtypes: datetime64[ns](2), float64(1), int64(5), object(7)\n",
      "memory usage: 161.9+ KB\n"
     ]
    }
   ],
   "source": [
    "december_trans.info()"
   ]
  },
  {
   "cell_type": "code",
   "execution_count": 36,
   "id": "2b3a64d1",
   "metadata": {},
   "outputs": [
    {
     "data": {
      "text/plain": [
       "72"
      ]
     },
     "execution_count": 36,
     "metadata": {},
     "output_type": "execute_result"
    }
   ],
   "source": [
    "december_trans[december_trans['New/Current'] == 'New']['user_id'].nunique()"
   ]
  },
  {
   "cell_type": "markdown",
   "id": "8f9fedb1",
   "metadata": {},
   "source": [
    "The total number of new users in December 2020 : 72 users"
   ]
  },
  {
   "cell_type": "code",
   "execution_count": 37,
   "id": "1149eb36",
   "metadata": {},
   "outputs": [
    {
     "data": {
      "text/html": [
       "<div>\n",
       "<style scoped>\n",
       "    .dataframe tbody tr th:only-of-type {\n",
       "        vertical-align: middle;\n",
       "    }\n",
       "\n",
       "    .dataframe tbody tr th {\n",
       "        vertical-align: top;\n",
       "    }\n",
       "\n",
       "    .dataframe thead th {\n",
       "        text-align: right;\n",
       "    }\n",
       "</style>\n",
       "<table border=\"1\" class=\"dataframe\">\n",
       "  <thead>\n",
       "    <tr style=\"text-align: right;\">\n",
       "      <th></th>\n",
       "      <th>user_id</th>\n",
       "      <th>order_id</th>\n",
       "      <th>Date</th>\n",
       "      <th>Amount</th>\n",
       "      <th>Merchant_id</th>\n",
       "      <th>Purchase_status</th>\n",
       "      <th>Merchant_name</th>\n",
       "      <th>Rate_pct</th>\n",
       "      <th>Revenue</th>\n",
       "      <th>Day_of_Week</th>\n",
       "      <th>First_tran_date</th>\n",
       "      <th>Location</th>\n",
       "      <th>Age</th>\n",
       "      <th>Gender</th>\n",
       "      <th>New/Current</th>\n",
       "    </tr>\n",
       "  </thead>\n",
       "  <tbody>\n",
       "    <tr>\n",
       "      <th>0</th>\n",
       "      <td>21269588</td>\n",
       "      <td>4169517626</td>\n",
       "      <td>2020-01-01</td>\n",
       "      <td>10000</td>\n",
       "      <td>13</td>\n",
       "      <td>Direct Sale</td>\n",
       "      <td>Mobifone</td>\n",
       "      <td>3</td>\n",
       "      <td>300.0</td>\n",
       "      <td>Wednesday</td>\n",
       "      <td>2018-12-11</td>\n",
       "      <td>Ha Noi</td>\n",
       "      <td>&gt;37</td>\n",
       "      <td>F</td>\n",
       "      <td>Current</td>\n",
       "    </tr>\n",
       "    <tr>\n",
       "      <th>1</th>\n",
       "      <td>28097592</td>\n",
       "      <td>4170276686</td>\n",
       "      <td>2020-01-01</td>\n",
       "      <td>20000</td>\n",
       "      <td>13</td>\n",
       "      <td>Direct Sale</td>\n",
       "      <td>Mobifone</td>\n",
       "      <td>3</td>\n",
       "      <td>600.0</td>\n",
       "      <td>Wednesday</td>\n",
       "      <td>2019-12-30</td>\n",
       "      <td>Ha Noi</td>\n",
       "      <td>&gt;37</td>\n",
       "      <td>F</td>\n",
       "      <td>Current</td>\n",
       "    </tr>\n",
       "    <tr>\n",
       "      <th>2</th>\n",
       "      <td>29080935</td>\n",
       "      <td>4174460303</td>\n",
       "      <td>2020-01-01</td>\n",
       "      <td>10000</td>\n",
       "      <td>13</td>\n",
       "      <td>Direct Sale</td>\n",
       "      <td>Mobifone</td>\n",
       "      <td>3</td>\n",
       "      <td>300.0</td>\n",
       "      <td>Wednesday</td>\n",
       "      <td>2019-10-24</td>\n",
       "      <td>Ha Noi</td>\n",
       "      <td>18_to_22</td>\n",
       "      <td>F</td>\n",
       "      <td>Current</td>\n",
       "    </tr>\n",
       "    <tr>\n",
       "      <th>3</th>\n",
       "      <td>50568745</td>\n",
       "      <td>4168401164</td>\n",
       "      <td>2020-01-01</td>\n",
       "      <td>10000</td>\n",
       "      <td>13</td>\n",
       "      <td>Direct Sale</td>\n",
       "      <td>Mobifone</td>\n",
       "      <td>3</td>\n",
       "      <td>300.0</td>\n",
       "      <td>Wednesday</td>\n",
       "      <td>2019-11-07</td>\n",
       "      <td>Other</td>\n",
       "      <td>23_to_27</td>\n",
       "      <td>F</td>\n",
       "      <td>Current</td>\n",
       "    </tr>\n",
       "    <tr>\n",
       "      <th>4</th>\n",
       "      <td>42275799</td>\n",
       "      <td>4174262889</td>\n",
       "      <td>2020-01-01</td>\n",
       "      <td>50000</td>\n",
       "      <td>13</td>\n",
       "      <td>Direct Sale</td>\n",
       "      <td>Mobifone</td>\n",
       "      <td>3</td>\n",
       "      <td>1500.0</td>\n",
       "      <td>Wednesday</td>\n",
       "      <td>2019-10-18</td>\n",
       "      <td>Ha Noi</td>\n",
       "      <td>28_to_32</td>\n",
       "      <td>F</td>\n",
       "      <td>Current</td>\n",
       "    </tr>\n",
       "  </tbody>\n",
       "</table>\n",
       "</div>"
      ],
      "text/plain": [
       "    user_id    order_id       Date  Amount  Merchant_id Purchase_status  \\\n",
       "0  21269588  4169517626 2020-01-01   10000           13     Direct Sale   \n",
       "1  28097592  4170276686 2020-01-01   20000           13     Direct Sale   \n",
       "2  29080935  4174460303 2020-01-01   10000           13     Direct Sale   \n",
       "3  50568745  4168401164 2020-01-01   10000           13     Direct Sale   \n",
       "4  42275799  4174262889 2020-01-01   50000           13     Direct Sale   \n",
       "\n",
       "  Merchant_name  Rate_pct  Revenue Day_of_Week First_tran_date Location  \\\n",
       "0      Mobifone         3    300.0   Wednesday      2018-12-11   Ha Noi   \n",
       "1      Mobifone         3    600.0   Wednesday      2019-12-30   Ha Noi   \n",
       "2      Mobifone         3    300.0   Wednesday      2019-10-24   Ha Noi   \n",
       "3      Mobifone         3    300.0   Wednesday      2019-11-07    Other   \n",
       "4      Mobifone         3   1500.0   Wednesday      2019-10-18   Ha Noi   \n",
       "\n",
       "        Age Gender New/Current  \n",
       "0       >37      F     Current  \n",
       "1       >37      F     Current  \n",
       "2  18_to_22      F     Current  \n",
       "3  23_to_27      F     Current  \n",
       "4  28_to_32      F     Current  "
      ]
     },
     "execution_count": 37,
     "metadata": {},
     "output_type": "execute_result"
    }
   ],
   "source": [
    "final.head()"
   ]
  },
  {
   "cell_type": "code",
   "execution_count": 38,
   "id": "d0c6b98e",
   "metadata": {},
   "outputs": [],
   "source": [
    "transaction.to_csv('final_transaction.csv')\n",
    "user.to_csv('final_user.csv')\n",
    "comission.to_csv('final_comission.csv')"
   ]
  },
  {
   "cell_type": "code",
   "execution_count": null,
   "id": "ee05c93a",
   "metadata": {},
   "outputs": [],
   "source": []
  }
 ],
 "metadata": {
  "kernelspec": {
   "display_name": "Python 3 (ipykernel)",
   "language": "python",
   "name": "python3"
  },
  "language_info": {
   "codemirror_mode": {
    "name": "ipython",
    "version": 3
   },
   "file_extension": ".py",
   "mimetype": "text/x-python",
   "name": "python",
   "nbconvert_exporter": "python",
   "pygments_lexer": "ipython3",
   "version": "3.9.12"
  }
 },
 "nbformat": 4,
 "nbformat_minor": 5
}
